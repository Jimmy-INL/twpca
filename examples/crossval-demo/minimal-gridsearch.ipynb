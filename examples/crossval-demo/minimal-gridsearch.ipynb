{
 "cells": [
  {
   "cell_type": "code",
   "execution_count": 1,
   "metadata": {
    "collapsed": true
   },
   "outputs": [],
   "source": [
    "import twpca"
   ]
  },
  {
   "cell_type": "code",
   "execution_count": 2,
   "metadata": {
    "collapsed": false
   },
   "outputs": [
    {
     "name": "stderr",
     "output_type": "stream",
     "text": [
      "100%|██████████| 4/4 [03:54<00:00, 58.63s/it]\n"
     ]
    }
   ],
   "source": [
    "import numpy as np\n",
    "np.random.seed(1234)\n",
    "from scipy.ndimage.filters import gaussian_filter1d\n",
    "from twpca.datasets import jittered_population\n",
    "from twpca.crossval import hyperparam_gridsearch\n",
    "\n",
    "# get synthetic data\n",
    "rates, spikes = jittered_population()\n",
    "smooth_std = 1.0\n",
    "smoothed_spikes = gaussian_filter1d(spikes, smooth_std, axis=1)\n",
    "\n",
    "# save example figure of raw data\n",
    "import matplotlib\n",
    "matplotlib.use('Agg')\n",
    "import matplotlib.pyplot as plt\n",
    "plt.figure(figsize=(10,3))\n",
    "plt.subplot(121)\n",
    "plt.imshow(rates[..., 0], aspect='auto', cmap=plt.cm.viridis); plt.colorbar()\n",
    "plt.title('Firing rate for neuron 1')\n",
    "plt.xlabel('Time')\n",
    "plt.ylabel('Trial')\n",
    "plt.subplot(122)\n",
    "plt.imshow(spikes[..., 0], aspect='auto', cmap=plt.cm.viridis); plt.colorbar()\n",
    "plt.title('Spikes for neuron 1')\n",
    "plt.savefig('raw_data.png')\n",
    "plt.close()\n",
    "\n",
    "# Do hyperparameter serach by cross-validation\n",
    "gridsearch_args = {\n",
    "    'n_components': 1,\n",
    "    'warp_penalties': np.logspace(-5, -1, 2),\n",
    "    'time_penalties': np.logspace(-2, 2, 2),\n",
    "    'fit_kw': {'niter': (250, 500), 'progressbar': False, 'lr': (0.1, 0.02)}\n",
    "}\n",
    "summary, results = hyperparam_gridsearch(smoothed_spikes, **gridsearch_args)"
   ]
  },
  {
   "cell_type": "code",
   "execution_count": 3,
   "metadata": {
    "collapsed": false
   },
   "outputs": [],
   "source": [
    "import pickle\n",
    "pickle.dump({'rates': rates, 'spikes': spikes}, open(\"crossval_data2.pickle\", \"wb\"))\n",
    "pickle.dump(summary, open(\"crossval_summary2.pickle\", \"wb\"))\n",
    "pickle.dump(results, open(\"crossval_results2.pickle\", \"wb\"))"
   ]
  },
  {
   "cell_type": "code",
   "execution_count": null,
   "metadata": {
    "collapsed": true
   },
   "outputs": [],
   "source": []
  }
 ],
 "metadata": {
  "anaconda-cloud": {},
  "kernelspec": {
   "display_name": "Python [conda env:tf]",
   "language": "python",
   "name": "conda-env-tf-py"
  },
  "language_info": {
   "codemirror_mode": {
    "name": "ipython",
    "version": 3
   },
   "file_extension": ".py",
   "mimetype": "text/x-python",
   "name": "python",
   "nbconvert_exporter": "python",
   "pygments_lexer": "ipython3",
   "version": "3.5.2"
  }
 },
 "nbformat": 4,
 "nbformat_minor": 1
}
